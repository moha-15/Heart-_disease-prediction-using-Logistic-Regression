{
 "cells": [
  {
   "cell_type": "code",
   "execution_count": 3,
   "id": "c0f12125-f0dd-42e8-a3bf-2fec34d7b314",
   "metadata": {},
   "outputs": [
    {
     "name": "stdout",
     "output_type": "stream",
     "text": [
      "<class 'pandas.core.frame.DataFrame'>\n",
      "RangeIndex: 303 entries, 0 to 302\n",
      "Data columns (total 14 columns):\n",
      " #   Column    Non-Null Count  Dtype  \n",
      "---  ------    --------------  -----  \n",
      " 0   age       303 non-null    int64  \n",
      " 1   sex       303 non-null    int64  \n",
      " 2   cp        303 non-null    int64  \n",
      " 3   trestbps  303 non-null    int64  \n",
      " 4   chol      303 non-null    int64  \n",
      " 5   fbs       303 non-null    int64  \n",
      " 6   restecg   303 non-null    int64  \n",
      " 7   thalach   303 non-null    int64  \n",
      " 8   exang     303 non-null    int64  \n",
      " 9   oldpeak   303 non-null    float64\n",
      " 10  slope     303 non-null    int64  \n",
      " 11  ca        303 non-null    int64  \n",
      " 12  thal      303 non-null    int64  \n",
      " 13  target    303 non-null    int64  \n",
      "dtypes: float64(1), int64(13)\n",
      "memory usage: 33.3 KB\n",
      "(303, 13) (272, 13) (31, 13)\n",
      "Train accuracy;  0.8382352941176471\n",
      "Test accuracy;  0.9354838709677419\n",
      "[0]\n"
     ]
    },
    {
     "name": "stderr",
     "output_type": "stream",
     "text": [
      "F:\\Anaconda\\lib\\site-packages\\sklearn\\linear_model\\_logistic.py:465: ConvergenceWarning: lbfgs failed to converge (status=1):\n",
      "STOP: TOTAL NO. of ITERATIONS REACHED LIMIT.\n",
      "\n",
      "Increase the number of iterations (max_iter) or scale the data as shown in:\n",
      "    https://scikit-learn.org/stable/modules/preprocessing.html\n",
      "Please also refer to the documentation for alternative solver options:\n",
      "    https://scikit-learn.org/stable/modules/linear_model.html#logistic-regression\n",
      "  n_iter_i = _check_optimize_result(\n"
     ]
    }
   ],
   "source": [
    "import pandas as pd\n",
    "import numpy as np\n",
    "import matplotlib.pyplot as plt\n",
    "import seaborn as sns\n",
    "\n",
    "\"\"\"### **Importing dataset**\"\"\"\n",
    "\n",
    "dataset=pd.read_csv(r\"C:\\Users\\PC\\Downloads\\heart.csv\")\n",
    "dataset.head()\n",
    "\n",
    "dataset.info()\n",
    "\n",
    "dataset.describe()\n",
    "\n",
    "X=dataset.iloc[:,:-1].values\n",
    "y=dataset.iloc[:,-1].values\n",
    "\n",
    "\"\"\"### **Splitting dataset**\"\"\"\n",
    "\n",
    "from sklearn.model_selection import train_test_split\n",
    "X_train, X_test, y_train, y_test= train_test_split(X, y, test_size=0.1, random_state=2)\n",
    "print(X.shape, X_train.shape, X_test.shape)\n",
    "\n",
    "from sklearn.preprocessing import StandardScaler\n",
    "sc=StandardScaler()\n",
    "#X_train=sc.fit_transform(X_train)\n",
    "\n",
    "\"\"\"### **Initializing and training model**\"\"\"\n",
    "\n",
    "from sklearn.linear_model import LogisticRegression\n",
    "regressor=LogisticRegression()\n",
    "regressor.fit(X_train, y_train)\n",
    "\n",
    "\"\"\"### **Predicting by the model**\"\"\"\n",
    "\n",
    "y_pred_train=regressor.predict(X_train)\n",
    "from sklearn.metrics import accuracy_score\n",
    "print(\"Train accuracy; \",accuracy_score(y_train, y_pred_train))\n",
    "\n",
    "y_pred=regressor.predict(X_test)\n",
    "print(\"Test accuracy; \",accuracy_score(y_test, y_pred))\n",
    "\n",
    "\"\"\"### **Building a predictive system**\"\"\"\n",
    "\n",
    "#Predicting a single value \n",
    "input_data = (62,0,0,140,268,0,0,160,0,3.6,0,2,2)\n",
    "input_data=np.array(input_data)\n",
    "#here input_data is a 1D nparray.but our regressor expect a 2D array.\n",
    "#So, we have to reshape it from 1D to 2D\n",
    "#print(input_data.shape)\n",
    "input_data=input_data.reshape(1,-1)\n",
    "#print(input_data.shape)\n",
    "output=regressor.predict(input_data)\n",
    "print(output)"
   ]
  },
  {
   "cell_type": "code",
   "execution_count": null,
   "id": "51ea64cf-9955-42ee-8400-d5ffd217451c",
   "metadata": {},
   "outputs": [],
   "source": []
  }
 ],
 "metadata": {
  "kernelspec": {
   "display_name": "Python 3.9 (myenv)",
   "language": "python",
   "name": "myenv"
  },
  "language_info": {
   "codemirror_mode": {
    "name": "ipython",
    "version": 3
   },
   "file_extension": ".py",
   "mimetype": "text/x-python",
   "name": "python",
   "nbconvert_exporter": "python",
   "pygments_lexer": "ipython3",
   "version": "3.9.18"
  }
 },
 "nbformat": 4,
 "nbformat_minor": 5
}
